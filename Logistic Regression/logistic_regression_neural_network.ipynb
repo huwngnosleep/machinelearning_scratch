{
 "cells": [
  {
   "cell_type": "code",
   "execution_count": 4,
   "id": "150dba0b",
   "metadata": {},
   "outputs": [],
   "source": [
    "import numpy as np\n",
    "import pandas as pd\n",
    "import matplotlib.pyplot as plt\n",
    "import math"
   ]
  },
  {
   "cell_type": "code",
   "execution_count": 5,
   "id": "56a6e978",
   "metadata": {},
   "outputs": [],
   "source": [
    "# Hàm sigmoid\n",
    "def sigmoid(x):\n",
    "    return 1 / (1 + np.exp(-x))"
   ]
  },
  {
   "cell_type": "code",
   "execution_count": 132,
   "id": "dd899716",
   "metadata": {},
   "outputs": [
    {
     "data": {
      "text/html": [
       "<div>\n",
       "<style scoped>\n",
       "    .dataframe tbody tr th:only-of-type {\n",
       "        vertical-align: middle;\n",
       "    }\n",
       "\n",
       "    .dataframe tbody tr th {\n",
       "        vertical-align: top;\n",
       "    }\n",
       "\n",
       "    .dataframe thead th {\n",
       "        text-align: right;\n",
       "    }\n",
       "</style>\n",
       "<table border=\"1\" class=\"dataframe\">\n",
       "  <thead>\n",
       "    <tr style=\"text-align: right;\">\n",
       "      <th></th>\n",
       "      <th>X_1</th>\n",
       "      <th>X_2</th>\n",
       "      <th>y</th>\n",
       "    </tr>\n",
       "  </thead>\n",
       "  <tbody>\n",
       "    <tr>\n",
       "      <th>0</th>\n",
       "      <td>-0.869144</td>\n",
       "      <td>0.389310</td>\n",
       "      <td>0.0</td>\n",
       "    </tr>\n",
       "    <tr>\n",
       "      <th>1</th>\n",
       "      <td>-0.993467</td>\n",
       "      <td>-0.610591</td>\n",
       "      <td>0.0</td>\n",
       "    </tr>\n",
       "    <tr>\n",
       "      <th>2</th>\n",
       "      <td>-0.834064</td>\n",
       "      <td>0.239236</td>\n",
       "      <td>0.0</td>\n",
       "    </tr>\n",
       "    <tr>\n",
       "      <th>3</th>\n",
       "      <td>-0.136471</td>\n",
       "      <td>0.632003</td>\n",
       "      <td>1.0</td>\n",
       "    </tr>\n",
       "    <tr>\n",
       "      <th>4</th>\n",
       "      <td>0.403887</td>\n",
       "      <td>0.310784</td>\n",
       "      <td>1.0</td>\n",
       "    </tr>\n",
       "    <tr>\n",
       "      <th>...</th>\n",
       "      <td>...</td>\n",
       "      <td>...</td>\n",
       "      <td>...</td>\n",
       "    </tr>\n",
       "    <tr>\n",
       "      <th>95</th>\n",
       "      <td>0.531635</td>\n",
       "      <td>-0.479185</td>\n",
       "      <td>1.0</td>\n",
       "    </tr>\n",
       "    <tr>\n",
       "      <th>96</th>\n",
       "      <td>-0.650192</td>\n",
       "      <td>0.655303</td>\n",
       "      <td>1.0</td>\n",
       "    </tr>\n",
       "    <tr>\n",
       "      <th>97</th>\n",
       "      <td>0.985299</td>\n",
       "      <td>0.118333</td>\n",
       "      <td>1.0</td>\n",
       "    </tr>\n",
       "    <tr>\n",
       "      <th>98</th>\n",
       "      <td>-0.275289</td>\n",
       "      <td>0.005730</td>\n",
       "      <td>1.0</td>\n",
       "    </tr>\n",
       "    <tr>\n",
       "      <th>99</th>\n",
       "      <td>0.281860</td>\n",
       "      <td>0.726376</td>\n",
       "      <td>1.0</td>\n",
       "    </tr>\n",
       "  </tbody>\n",
       "</table>\n",
       "<p>100 rows × 3 columns</p>\n",
       "</div>"
      ],
      "text/plain": [
       "         X_1       X_2   y \n",
       "0  -0.869144  0.389310  0.0\n",
       "1  -0.993467 -0.610591  0.0\n",
       "2  -0.834064  0.239236  0.0\n",
       "3  -0.136471  0.632003  1.0\n",
       "4   0.403887  0.310784  1.0\n",
       "..       ...       ...  ...\n",
       "95  0.531635 -0.479185  1.0\n",
       "96 -0.650192  0.655303  1.0\n",
       "97  0.985299  0.118333  1.0\n",
       "98 -0.275289  0.005730  1.0\n",
       "99  0.281860  0.726376  1.0\n",
       "\n",
       "[100 rows x 3 columns]"
      ]
     },
     "execution_count": 132,
     "metadata": {},
     "output_type": "execute_result"
    }
   ],
   "source": [
    "# Load data từ file csv\n",
    "data = pd.read_csv('data.csv')\n",
    "# N, d = data.shape\n",
    "# x1 = data[:, 0:d-1].reshape(-1, d-1)\n",
    "# y = data[:, 2].reshape(-1, 1)\n",
    "# # pd.read_csv('data.csv')\n",
    "# N, d\n",
    "x1 = data['X_1']\n",
    "x2 = data['X_2']\n",
    "x = data[['X_1', 'X_2']].T\n",
    "y = data['y ']\n",
    "data[['X_1', 'X_2', 'y ']]"
   ]
  },
  {
   "cell_type": "code",
   "execution_count": 68,
   "id": "5286e4bb",
   "metadata": {},
   "outputs": [
    {
     "data": {
      "text/plain": [
       "<matplotlib.legend.Legend at 0x26a091ad700>"
      ]
     },
     "execution_count": 68,
     "metadata": {},
     "output_type": "execute_result"
    },
    {
     "data": {
      "image/png": "[encoded data removed]",
      "text/plain": [
       "<Figure size 432x288 with 1 Axes>"
      ]
     },
     "metadata": {
      "needs_background": "light"
     },
     "output_type": "display_data"
    }
   ],
   "source": [
    "plt.scatter(x1, y, c='blue', edgecolors='none', s=30, label='x1')\n",
    "plt.legend(loc=1)"
   ]
  },
  {
   "cell_type": "code",
   "execution_count": 209,
   "id": "54d56686",
   "metadata": {},
   "outputs": [
    {
     "name": "stdout",
     "output_type": "stream",
     "text": [
      "[0. 0.]\n"
     ]
    }
   ],
   "source": [
    "alpha = 0.006\n",
    "iterations = 5000\n",
    "m = x.shape[1]\n",
    "b = 0\n",
    "w = np.zeros(x.shape[0])\n",
    "print(w)"
   ]
  },
  {
   "cell_type": "code",
   "execution_count": 210,
   "id": "d16da8ff",
   "metadata": {
    "scrolled": true
   },
   "outputs": [
    {
     "name": "stdout",
     "output_type": "stream",
     "text": [
      "[2.24770815 2.03745445] 0.4597326424546947\n"
     ]
    }
   ],
   "source": [
    "cost = []\n",
    "for i in range(0, iterations):\n",
    "    z = np.dot(w.T, x) + b\n",
    "    a = sigmoid(z)\n",
    "    dz = a - y\n",
    "    dw = (1 / m) * np.dot(x, dz.T)\n",
    "    db = (1 / m) * np.sum(dz)\n",
    "    \n",
    "    w = w - alpha * dw\n",
    "    b = b - alpha * db\n",
    "    predictions = np.dot(w.T, x) + b\n",
    "    error = np.absolute(np.sum(predictions - y))\n",
    "    cost.append(error)\n",
    "print(w, b)"
   ]
  },
  {
   "cell_type": "code",
   "execution_count": 211,
   "id": "e24d6d77",
   "metadata": {},
   "outputs": [],
   "source": [
    "def y_hat(x):\n",
    "    return np.dot(w.T, x) + b"
   ]
  },
  {
   "cell_type": "code",
   "execution_count": 212,
   "id": "71f304a8",
   "metadata": {},
   "outputs": [
    {
     "data": {
      "text/plain": [
       "2.5732296769189897"
      ]
     },
     "execution_count": 212,
     "metadata": {},
     "output_type": "execute_result"
    }
   ],
   "source": [
    "y_hat(np.array([0.281860, 0.726376]))"
   ]
  },
  {
   "cell_type": "code",
   "execution_count": 213,
   "id": "7e08183e",
   "metadata": {},
   "outputs": [
    {
     "data": {
      "text/plain": [
       "[<matplotlib.lines.Line2D at 0x26a0a9e4b20>]"
      ]
     },
     "execution_count": 213,
     "metadata": {},
     "output_type": "execute_result"
    },
    {
     "data": {
      "image/png": "[encoded data removed]",
      "text/plain": [
       "<Figure size 432x288 with 1 Axes>"
      ]
     },
     "metadata": {
      "needs_background": "light"
     },
     "output_type": "display_data"
    }
   ],
   "source": [
    "plt.plot(cost)"
   ]
  },
  {
   "cell_type": "code",
   "execution_count": null,
   "id": "bb0bfe4b",
   "metadata": {},
   "outputs": [],
   "source": []
  }
 ],
 "metadata": {
  "kernelspec": {
   "display_name": "Python 3 (ipykernel)",
   "language": "python",
   "name": "python3"
  },
  "language_info": {
   "codemirror_mode": {
    "name": "ipython",
    "version": 3
   },
   "file_extension": ".py",
   "mimetype": "text/x-python",
   "name": "python",
   "nbconvert_exporter": "python",
   "pygments_lexer": "ipython3",
   "version": "3.9.7"
  }
 },
 "nbformat": 4,
 "nbformat_minor": 5
}
