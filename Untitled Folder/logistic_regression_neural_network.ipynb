{
 "cells": [
  {
   "cell_type": "code",
   "execution_count": 79,
   "id": "150dba0b",
   "metadata": {},
   "outputs": [],
   "source": [
    "import numpy as np\n",
    "import pandas as pd\n",
    "import matplotlib.pyplot as plt\n",
    "import math"
   ]
  },
  {
   "cell_type": "code",
   "execution_count": 3,
   "id": "56a6e978",
   "metadata": {},
   "outputs": [],
   "source": [
    "# Hàm sigmoid\n",
    "def sigmoid(x):\n",
    "    return 1 / (1 + np.exp(-x))"
   ]
  },
  {
   "cell_type": "code",
   "execution_count": 185,
   "id": "dd899716",
   "metadata": {},
   "outputs": [
    {
     "data": {
      "text/html": [
       "<div>\n",
       "<style scoped>\n",
       "    .dataframe tbody tr th:only-of-type {\n",
       "        vertical-align: middle;\n",
       "    }\n",
       "\n",
       "    .dataframe tbody tr th {\n",
       "        vertical-align: top;\n",
       "    }\n",
       "\n",
       "    .dataframe thead th {\n",
       "        text-align: right;\n",
       "    }\n",
       "</style>\n",
       "<table border=\"1\" class=\"dataframe\">\n",
       "  <thead>\n",
       "    <tr style=\"text-align: right;\">\n",
       "      <th></th>\n",
       "      <th>X_1</th>\n",
       "      <th>X_2</th>\n",
       "      <th>y</th>\n",
       "    </tr>\n",
       "  </thead>\n",
       "  <tbody>\n",
       "    <tr>\n",
       "      <th>0</th>\n",
       "      <td>-0.869144</td>\n",
       "      <td>0.389310</td>\n",
       "      <td>0.0</td>\n",
       "    </tr>\n",
       "    <tr>\n",
       "      <th>1</th>\n",
       "      <td>-0.993467</td>\n",
       "      <td>-0.610591</td>\n",
       "      <td>0.0</td>\n",
       "    </tr>\n",
       "    <tr>\n",
       "      <th>2</th>\n",
       "      <td>-0.834064</td>\n",
       "      <td>0.239236</td>\n",
       "      <td>0.0</td>\n",
       "    </tr>\n",
       "    <tr>\n",
       "      <th>3</th>\n",
       "      <td>-0.136471</td>\n",
       "      <td>0.632003</td>\n",
       "      <td>1.0</td>\n",
       "    </tr>\n",
       "    <tr>\n",
       "      <th>4</th>\n",
       "      <td>0.403887</td>\n",
       "      <td>0.310784</td>\n",
       "      <td>1.0</td>\n",
       "    </tr>\n",
       "    <tr>\n",
       "      <th>...</th>\n",
       "      <td>...</td>\n",
       "      <td>...</td>\n",
       "      <td>...</td>\n",
       "    </tr>\n",
       "    <tr>\n",
       "      <th>95</th>\n",
       "      <td>0.531635</td>\n",
       "      <td>-0.479185</td>\n",
       "      <td>1.0</td>\n",
       "    </tr>\n",
       "    <tr>\n",
       "      <th>96</th>\n",
       "      <td>-0.650192</td>\n",
       "      <td>0.655303</td>\n",
       "      <td>1.0</td>\n",
       "    </tr>\n",
       "    <tr>\n",
       "      <th>97</th>\n",
       "      <td>0.985299</td>\n",
       "      <td>0.118333</td>\n",
       "      <td>1.0</td>\n",
       "    </tr>\n",
       "    <tr>\n",
       "      <th>98</th>\n",
       "      <td>-0.275289</td>\n",
       "      <td>0.005730</td>\n",
       "      <td>1.0</td>\n",
       "    </tr>\n",
       "    <tr>\n",
       "      <th>99</th>\n",
       "      <td>0.281860</td>\n",
       "      <td>0.726376</td>\n",
       "      <td>1.0</td>\n",
       "    </tr>\n",
       "  </tbody>\n",
       "</table>\n",
       "<p>100 rows × 3 columns</p>\n",
       "</div>"
      ],
      "text/plain": [
       "         X_1       X_2   y \n",
       "0  -0.869144  0.389310  0.0\n",
       "1  -0.993467 -0.610591  0.0\n",
       "2  -0.834064  0.239236  0.0\n",
       "3  -0.136471  0.632003  1.0\n",
       "4   0.403887  0.310784  1.0\n",
       "..       ...       ...  ...\n",
       "95  0.531635 -0.479185  1.0\n",
       "96 -0.650192  0.655303  1.0\n",
       "97  0.985299  0.118333  1.0\n",
       "98 -0.275289  0.005730  1.0\n",
       "99  0.281860  0.726376  1.0\n",
       "\n",
       "[100 rows x 3 columns]"
      ]
     },
     "execution_count": 185,
     "metadata": {},
     "output_type": "execute_result"
    }
   ],
   "source": [
    "# Load data từ file csv\n",
    "data = pd.read_csv('data.csv')\n",
    "# N, d = data.shape\n",
    "# x1 = data[:, 0:d-1].reshape(-1, d-1)\n",
    "# y = data[:, 2].reshape(-1, 1)\n",
    "# # pd.read_csv('data.csv')\n",
    "# N, d\n",
    "x1 = data['X_1'].values\n",
    "x2 = data['X_2'].values\n",
    "x = data[['X_1', 'X_2']].values\n",
    "y = data['y '].values\n",
    "data[['X_1', 'X_2', 'y ']]"
   ]
  },
  {
   "cell_type": "code",
   "execution_count": 186,
   "id": "5286e4bb",
   "metadata": {},
   "outputs": [
    {
     "data": {
      "text/plain": [
       "<matplotlib.legend.Legend at 0x2011218dd60>"
      ]
     },
     "execution_count": 186,
     "metadata": {},
     "output_type": "execute_result"
    },
    {
     "data": {
      "image/png": "[encoded data removed]",
      "text/plain": [
       "<Figure size 432x288 with 1 Axes>"
      ]
     },
     "metadata": {
      "needs_background": "light"
     },
     "output_type": "display_data"
    }
   ],
   "source": [
    "plt.scatter(x1, y, c='blue', edgecolors='none', s=30, label='x1')\n",
    "plt.legend(loc=1)"
   ]
  },
  {
   "cell_type": "code",
   "execution_count": 199,
   "id": "54d56686",
   "metadata": {},
   "outputs": [],
   "source": [
    "alpha = 0.05\n",
    "iterations = 1000\n",
    "m = data.shape[0]\n",
    "w1 = 0\n",
    "w2 = 0\n",
    "b = 0\n"
   ]
  },
  {
   "cell_type": "code",
   "execution_count": 204,
   "id": "d16da8ff",
   "metadata": {
    "scrolled": false
   },
   "outputs": [
    {
     "name": "stdout",
     "output_type": "stream",
     "text": [
      "-0.02786345211951252 -0.06083831541063979 0.4088029696283095\n"
     ]
    }
   ],
   "source": [
    "cost = []\n",
    "for i in range(0, iterations):\n",
    "    J = 0\n",
    "    dw1 = 0\n",
    "    dw2 = 0\n",
    "    db = 0\n",
    "    w = np.array([w1, w2])\n",
    "    for i in range(0, m):\n",
    "        z = np.dot(np.transpose(w),np.array(x[i])) + b\n",
    "        a = sigmoid(z)\n",
    "        J += -(y[i] * np.log(a) + (1 - y[i]) *  np.log(1 - a))\n",
    "        dz = a - y[i]\n",
    "        dw1 += x1[i] * z\n",
    "        dw2 += x2[i] * z\n",
    "        db += dz\n",
    "    J = J / m\n",
    "    dw1 = dw1 / m\n",
    "    dw2 = dw2 / m\n",
    "    db = db / m\n",
    "\n",
    "    w1 -= alpha * dw1\n",
    "    w2 -= alpha * dw2\n",
    "    b -= alpha *db\n",
    "    cost.append(J)\n",
    "print(w1, w2, b)"
   ]
  },
  {
   "cell_type": "code",
   "execution_count": 205,
   "id": "e24d6d77",
   "metadata": {},
   "outputs": [],
   "source": [
    "def y_hat(x1, x2):\n",
    "    return x1 * w1 + x2 * w2 + b"
   ]
  },
  {
   "cell_type": "code",
   "execution_count": 206,
   "id": "71f304a8",
   "metadata": {},
   "outputs": [
    {
     "data": {
      "text/plain": [
       "0.3567578848191848"
      ]
     },
     "execution_count": 206,
     "metadata": {},
     "output_type": "execute_result"
    }
   ],
   "source": [
    "y_hat(0.281860, 0.726376)"
   ]
  },
  {
   "cell_type": "code",
   "execution_count": 207,
   "id": "7e08183e",
   "metadata": {},
   "outputs": [
    {
     "data": {
      "text/plain": [
       "[<matplotlib.lines.Line2D at 0x201123a57c0>]"
      ]
     },
     "execution_count": 207,
     "metadata": {},
     "output_type": "execute_result"
    },
    {
     "data": {
      "image/png": "[encoded data removed]",
      "text/plain": [
       "<Figure size 432x288 with 1 Axes>"
      ]
     },
     "metadata": {
      "needs_background": "light"
     },
     "output_type": "display_data"
    }
   ],
   "source": [
    "plt.plot(loss)"
   ]
  },
  {
   "cell_type": "code",
   "execution_count": null,
   "id": "e69aa7b3",
   "metadata": {},
   "outputs": [],
   "source": []
  }
 ],
 "metadata": {
  "kernelspec": {
   "display_name": "Python 3 (ipykernel)",
   "language": "python",
   "name": "python3"
  },
  "language_info": {
   "codemirror_mode": {
    "name": "ipython",
    "version": 3
   },
   "file_extension": ".py",
   "mimetype": "text/x-python",
   "name": "python",
   "nbconvert_exporter": "python",
   "pygments_lexer": "ipython3",
   "version": "3.9.7"
  }
 },
 "nbformat": 4,
 "nbformat_minor": 5
}
