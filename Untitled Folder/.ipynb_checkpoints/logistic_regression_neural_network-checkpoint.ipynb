{
 "cells": [
  {
   "cell_type": "code",
   "execution_count": 1,
   "id": "837f2076",
   "metadata": {},
   "outputs": [],
   "source": [
    "import numpy as np\n",
    "import pandas as pd\n",
    "import matplotlib.pyplot as plt"
   ]
  },
  {
   "cell_type": "code",
   "execution_count": 3,
   "id": "7b1baf7f",
   "metadata": {},
   "outputs": [],
   "source": [
    "# Hàm sigmoid\n",
    "def sigmoid(x):\n",
    "    return 1 / (1 + np.exp(-x))"
   ]
  },
  {
   "cell_type": "code",
   "execution_count": 48,
   "id": "b9b87e65",
   "metadata": {},
   "outputs": [
    {
     "data": {
      "text/plain": [
       "(0    -0.869144\n",
       " 1    -0.993467\n",
       " 2    -0.834064\n",
       " 3    -0.136471\n",
       " 4     0.403887\n",
       "         ...   \n",
       " 95    0.531635\n",
       " 96   -0.650192\n",
       " 97    0.985299\n",
       " 98   -0.275289\n",
       " 99    0.281860\n",
       " Name: X_1, Length: 100, dtype: float64,\n",
       " 0     0.389310\n",
       " 1    -0.610591\n",
       " 2     0.239236\n",
       " 3     0.632003\n",
       " 4     0.310784\n",
       "         ...   \n",
       " 95   -0.479185\n",
       " 96    0.655303\n",
       " 97    0.118333\n",
       " 98    0.005730\n",
       " 99    0.726376\n",
       " Name: X_2, Length: 100, dtype: float64,\n",
       " 0     0.0\n",
       " 1     0.0\n",
       " 2     0.0\n",
       " 3     1.0\n",
       " 4     1.0\n",
       "      ... \n",
       " 95    1.0\n",
       " 96    1.0\n",
       " 97    1.0\n",
       " 98    1.0\n",
       " 99    1.0\n",
       " Name: y , Length: 100, dtype: float64)"
      ]
     },
     "execution_count": 48,
     "metadata": {},
     "output_type": "execute_result"
    }
   ],
   "source": [
    "# Load data từ file csv\n",
    "data = pd.read_csv('data.csv')\n",
    "# N, d = data.shape\n",
    "# x1 = data[:, 0:d-1].reshape(-1, d-1)\n",
    "# y = data[:, 2].reshape(-1, 1)\n",
    "# # pd.read_csv('data.csv')\n",
    "# N, d\n",
    "x1 = data['X_1']\n",
    "x2 = data['X_2']\n",
    "x = data[['X_1', 'X_2']]\n",
    "y = data['y ']\n",
    "x1, x2, y"
   ]
  },
  {
   "cell_type": "code",
   "execution_count": 53,
   "id": "34755dbc",
   "metadata": {},
   "outputs": [
    {
     "data": {
      "text/plain": [
       "<matplotlib.collections.PathCollection at 0x20110936310>"
      ]
     },
     "execution_count": 53,
     "metadata": {},
     "output_type": "execute_result"
    },
    {
     "data": {
      "image/png": "[encoded data removed]",
      "text/plain": [
       "<Figure size 432x288 with 1 Axes>"
      ]
     },
     "metadata": {
      "needs_background": "light"
     },
     "output_type": "display_data"
    }
   ],
   "source": [
    "plt.scatter(x1, y, c='blue', edgecolors='none', s=30, label='từ chối')\n",
    "plt.scatter(x2, y)\n",
    "# plt.scatter(x[10:, 0], x[10:, 1], c='blue', edgecolors='none', s=30, label='từ chối')\n",
    "# plt.legend(loc=1)\n",
    "# plt.xlabel('X')\n",
    "# plt.ylabel('Y')"
   ]
  },
  {
   "cell_type": "code",
   "execution_count": null,
   "id": "1ffd2de1",
   "metadata": {},
   "outputs": [],
   "source": []
  }
 ],
 "metadata": {
  "kernelspec": {
   "display_name": "Python 3 (ipykernel)",
   "language": "python",
   "name": "python3"
  },
  "language_info": {
   "codemirror_mode": {
    "name": "ipython",
    "version": 3
   },
   "file_extension": ".py",
   "mimetype": "text/x-python",
   "name": "python",
   "nbconvert_exporter": "python",
   "pygments_lexer": "ipython3",
   "version": "3.9.7"
  }
 },
 "nbformat": 4,
 "nbformat_minor": 5
}
